{
  "nbformat": 4,
  "nbformat_minor": 0,
  "metadata": {
    "colab": {
      "provenance": []
    },
    "kernelspec": {
      "name": "python3",
      "display_name": "Python 3"
    },
    "language_info": {
      "name": "python"
    }
  },
  "cells": [
    {
      "cell_type": "code",
      "execution_count": null,
      "metadata": {
        "id": "rVZZuuTBbRG9"
      },
      "outputs": [],
      "source": [
        "!pip install -U sentence-transformers"
      ]
    },
    {
      "cell_type": "code",
      "source": [
        "from sentence_transformers import SentenceTransformer, util\n",
        "\n",
        "model = SentenceTransformer(\"all-MiniLM-L6-v2\")\n",
        "\n",
        "# Lista de frases\n",
        "sentences = ['el gusta juega afuera',\n",
        "             'me gusta tocar guitarra',\n",
        "             'me encanta la pasta',\n",
        "             'esta pelicula estuvo asombrosa',\n",
        "             'el perro esta afuera',\n",
        "             'te gusta la musica?',\n",
        "             'estuvo muy buena la pelicula',\n",
        "             'te gustaria una pizza?']\n",
        "\n",
        "embeddings = model.encode(sentences)\n"
      ],
      "metadata": {
        "id": "45Htjdq1bXC5"
      },
      "execution_count": null,
      "outputs": []
    },
    {
      "cell_type": "code",
      "source": [
        "embeddings"
      ],
      "metadata": {
        "colab": {
          "base_uri": "https://localhost:8080/"
        },
        "id": "o68D3Cr-b8W-",
        "outputId": "2dd6bd42-def2-478e-86ca-45f8cfd3a000"
      },
      "execution_count": null,
      "outputs": [
        {
          "output_type": "execute_result",
          "data": {
            "text/plain": [
              "array([[ 0.00670465,  0.12191359, -0.07351422, ...,  0.00764342,\n",
              "        -0.02881055, -0.06466109],\n",
              "       [-0.03385794,  0.00732809, -0.04184823, ...,  0.04272254,\n",
              "        -0.0227952 , -0.06084861],\n",
              "       [-0.05483966, -0.03731453, -0.01410467, ...,  0.1172901 ,\n",
              "         0.07456188, -0.0974494 ],\n",
              "       ...,\n",
              "       [ 0.02240627,  0.00977139,  0.01616971, ...,  0.02968126,\n",
              "         0.01667443, -0.05944228],\n",
              "       [ 0.0229008 ,  0.00147286,  0.0013893 , ...,  0.08682209,\n",
              "         0.08835244, -0.13047363],\n",
              "       [-0.06596519,  0.03551989, -0.04087367, ...,  0.09201567,\n",
              "         0.00076539, -0.08679891]], dtype=float32)"
            ]
          },
          "metadata": {},
          "execution_count": 4
        }
      ]
    },
    {
      "cell_type": "markdown",
      "source": [
        "### Comparar frases con modelo de embeddings"
      ],
      "metadata": {
        "id": "HUsfUOCBcb9G"
      }
    },
    {
      "cell_type": "code",
      "source": [
        "# Cálculo de similtudes de coseno para cada frase con todas las demas frasese\n",
        "cosine_scores = util.cos_sim(embeddings, embeddings)\n",
        "\n",
        "pairs = []\n",
        "\n",
        "for i in range(len(cosine_scores)-1):\n",
        "  for j in range(i+1, len(cosine_scores)):\n",
        "    pairs.append({'index': [i, j], 'score': cosine_scores[i][j]})\n",
        "\n",
        "pairs = sorted(pairs, key=lambda x : x['score'], reverse=True)\n",
        "\n",
        "for pair in pairs[0:5]:\n",
        "  i, j = pair['index']\n",
        "  print(\"{} --> {} \\t\\t Score: {:.4f}\".format(sentences[i], sentences[j], pair['score']))\n"
      ],
      "metadata": {
        "colab": {
          "base_uri": "https://localhost:8080/"
        },
        "id": "e-nwOFMfcEzK",
        "outputId": "fa1c4517-1176-400d-888c-16c83bc9c0e4"
      },
      "execution_count": null,
      "outputs": [
        {
          "output_type": "stream",
          "name": "stdout",
          "text": [
            "esta pelicula estuvo asombrosa --> estuvo muy buena la pelicula \t\t Score: 0.7083\n",
            "te gusta la musica? --> te gustaria una pizza? \t\t Score: 0.6938\n",
            "el gusta juega afuera --> el perro esta afuera \t\t Score: 0.6699\n",
            "me gusta tocar guitarra --> te gusta la musica? \t\t Score: 0.6582\n",
            "me encanta la pasta --> te gustaria una pizza? \t\t Score: 0.6540\n"
          ]
        }
      ]
    },
    {
      "cell_type": "code",
      "source": [],
      "metadata": {
        "id": "1QN4a1gbdkZp"
      },
      "execution_count": null,
      "outputs": []
    }
  ]
}